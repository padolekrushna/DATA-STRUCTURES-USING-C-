{
  "nbformat": 4,
  "nbformat_minor": 0,
  "metadata": {
    "colab": {
      "provenance": [],
      "authorship_tag": "ABX9TyMYNV4uUYYxXUbQnXs4l3Ta",
      "include_colab_link": true
    },
    "kernelspec": {
      "name": "python3",
      "display_name": "Python 3"
    },
    "language_info": {
      "name": "python"
    }
  },
  "cells": [
    {
      "cell_type": "markdown",
      "metadata": {
        "id": "view-in-github",
        "colab_type": "text"
      },
      "source": [
        "<a href=\"https://colab.research.google.com/github/padolekrushna/Daily_Data_Structure_using_python_and_c/blob/main/stack_by_python.ipynb\" target=\"_parent\"><img src=\"https://colab.research.google.com/assets/colab-badge.svg\" alt=\"Open In Colab\"/></a>"
      ]
    },
    {
      "cell_type": "markdown",
      "source": [
        "#Stack in Python"
      ],
      "metadata": {
        "id": "-ZM30cgQaSYl"
      }
    },
    {
      "cell_type": "markdown",
      "source": [
        "### A stack is a linear data structure that stores items in a Last-In/First-Out (LIFO) or First-In/Last-Out (FILO) manner. In stack, a new element is added at one end and an element is removed from that end only. The insert and delete operations are often called push and pop."
      ],
      "metadata": {
        "id": "1qcLR_lpaY5h"
      }
    },
    {
      "cell_type": "markdown",
      "source": [
        "Implementation:"
      ],
      "metadata": {
        "id": "sbT3aQLOali3"
      }
    },
    {
      "cell_type": "markdown",
      "source": [
        "    1.list\n",
        "    2.Collections.deque\n",
        "    3.queue.LifoQueue"
      ],
      "metadata": {
        "id": "L9W_80J1as6C"
      }
    },
    {
      "cell_type": "code",
      "source": [
        "# Python program to demonstrate stack implementation using list\n",
        "\n",
        "stack = []\n",
        "stack.append('a')\n",
        "stack.append('b')\n",
        "stack.append('c')\n",
        "\n",
        "print('Initial stack')\n",
        "print(stack)\n",
        "print('\\nElements popped from stack:')\n",
        "print(stack.pop())\n",
        "print(stack.pop())\n",
        "print(stack.pop())\n",
        "\n",
        "print('\\nStack after elements are popped:')\n",
        "print(stack)"
      ],
      "metadata": {
        "colab": {
          "base_uri": "https://localhost:8080/"
        },
        "id": "NmxL_dvHamSH",
        "outputId": "807e0781-3804-4835-c248-8609e0674d9c"
      },
      "execution_count": 4,
      "outputs": [
        {
          "output_type": "stream",
          "name": "stdout",
          "text": [
            "Initial stack\n",
            "['a', 'b', 'c']\n",
            "\n",
            "Elements popped from stack:\n",
            "c\n",
            "b\n",
            "a\n",
            "\n",
            "Stack after elements are popped:\n",
            "[]\n"
          ]
        }
      ]
    },
    {
      "cell_type": "code",
      "source": [
        "# Python program to demonstrate stack implementation using collections.deque\n",
        "\n",
        "from collections import deque\n",
        "\n",
        "stack = deque()\n",
        "stack.append('a')\n",
        "stack.append('b')\n",
        "stack.append('c')\n",
        "\n",
        "print('Initial stack:')\n",
        "print(stack)\n",
        "print('\\nElements popped from stack:')\n",
        "print(stack.pop())\n",
        "print(stack.pop())\n",
        "print(stack.pop())\n",
        "\n",
        "print('\\nStack after elements are popped:')\n",
        "print(stack)"
      ],
      "metadata": {
        "colab": {
          "base_uri": "https://localhost:8080/"
        },
        "id": "lsalpqyhbGmA",
        "outputId": "4922c29b-4ec5-47af-9303-7b6412b2b10a"
      },
      "execution_count": 5,
      "outputs": [
        {
          "output_type": "stream",
          "name": "stdout",
          "text": [
            "Initial stack:\n",
            "deque(['a', 'b', 'c'])\n",
            "\n",
            "Elements popped from stack:\n",
            "c\n",
            "b\n",
            "a\n",
            "\n",
            "Stack after elements are popped:\n",
            "deque([])\n"
          ]
        }
      ]
    },
    {
      "cell_type": "code",
      "source": [
        "# Python program to demonstrate stack implementation using queue module\n",
        "from queue import LifoQueue\n",
        "stack = LifoQueue(maxsize=3)\n",
        "# qsize() show the number of elements in the stack\n",
        "print(stack.qsize())\n",
        "# put() function to push element in the stack\n",
        "stack.put('a')\n",
        "stack.put('b')\n",
        "stack.put('c')\n",
        "\n",
        "print(\"Full: \", stack.full())\n",
        "print(\"Size: \", stack.qsize())\n",
        "\n",
        "# get() function to pop element from stack in LIFO order\n",
        "print('\\nElements popped from the stack')\n",
        "print(stack.get())\n",
        "print(stack.get())\n",
        "print(stack.get())\n",
        "\n",
        "print(\"\\nEmpty: \", stack.empty())\n",
        "\n"
      ],
      "metadata": {
        "colab": {
          "base_uri": "https://localhost:8080/"
        },
        "id": "FaBuLvmLb_2w",
        "outputId": "d1f3863b-510f-41ce-c6da-ed6eb297bd5c"
      },
      "execution_count": 7,
      "outputs": [
        {
          "output_type": "stream",
          "name": "stdout",
          "text": [
            "0\n",
            "Full:  True\n",
            "Size:  3\n",
            "\n",
            "Elements popped from the stack\n",
            "c\n",
            "b\n",
            "a\n",
            "\n",
            "Empty:  True\n"
          ]
        }
      ]
    },
    {
      "cell_type": "markdown",
      "source": [
        "#by Krushna padole"
      ],
      "metadata": {
        "id": "vBNVeMIIcYCw"
      }
    },
    {
      "cell_type": "code",
      "source": [],
      "metadata": {
        "id": "FBPYG4g2cb6s"
      },
      "execution_count": null,
      "outputs": []
    }
  ]
}