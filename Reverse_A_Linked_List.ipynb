{
  "nbformat": 4,
  "nbformat_minor": 0,
  "metadata": {
    "colab": {
      "provenance": [],
      "authorship_tag": "ABX9TyNIRra7CT5m5O3u/RgEqEUH",
      "include_colab_link": true
    },
    "kernelspec": {
      "name": "python3",
      "display_name": "Python 3"
    },
    "language_info": {
      "name": "python"
    }
  },
  "cells": [
    {
      "cell_type": "markdown",
      "metadata": {
        "id": "view-in-github",
        "colab_type": "text"
      },
      "source": [
        "<a href=\"https://colab.research.google.com/github/padolekrushna/Daily_Data_Structure_using_python_and_c/blob/main/Reverse_A_Linked_List.ipynb\" target=\"_parent\"><img src=\"https://colab.research.google.com/assets/colab-badge.svg\" alt=\"Open In Colab\"/></a>"
      ]
    },
    {
      "cell_type": "markdown",
      "source": [
        "#Reverse A Linked List"
      ],
      "metadata": {
        "id": "T99cLBgR0KRa"
      }
    },
    {
      "cell_type": "markdown",
      "source": [
        "### Given a linked list, the task is to reverse the linked list by changing the links between nodes"
      ],
      "metadata": {
        "id": "0v-AcJ5s0D55"
      }
    },
    {
      "cell_type": "code",
      "execution_count": null,
      "metadata": {
        "id": "xOZc8uJqz1xb"
      },
      "outputs": [],
      "source": [
        "# Iterative Python program to reverse a linked list\n",
        "\n",
        "# A linked list node\n",
        "class Node:\n",
        "    # Constructor to initialize a new node with data\n",
        "    def __init__(self, new_data):\n",
        "        self.data = new_data\n",
        "        self.next = None\n",
        "\n",
        "# Given the head of a list, reverse the list and return the\n",
        "# head of reversed list\n",
        "def reverse_list(head):\n",
        "\n",
        "    # Initialize three pointers: curr, prev and next\n",
        "    curr = head\n",
        "    prev = None\n",
        "\n",
        "    # Traverse all the nodes of Linked List\n",
        "    while curr is not None:\n",
        "\n",
        "        # Store next\n",
        "        next_node = curr.next\n",
        "\n",
        "        # Reverse current node's next pointer\n",
        "        curr.next = prev\n",
        "\n",
        "        # Move pointers one position ahead\n",
        "        prev = curr\n",
        "        curr = next_node\n",
        "\n",
        "    # Return the head of reversed linked list\n",
        "    return prev\n",
        "\n",
        "# This function prints the contents\n",
        "# of the linked list starting from the head\n",
        "def print_list(node):\n",
        "    while node is not None:\n",
        "        print(f\" {node.data}\", end=\"\")\n",
        "        node = node.next\n",
        "    print()\n",
        "\n",
        "\n",
        "# Driver code\n",
        "if __name__ == \"__main__\":\n",
        "\n",
        "    # Create a hard-coded linked list:\n",
        "    # 1 -> 2 -> 3 -> 4 -> 5\n",
        "    head = Node(1)\n",
        "    head.next = Node(2)\n",
        "    head.next.next = Node(3)\n",
        "    head.next.next.next = Node(4)\n",
        "    head.next.next.next.next = Node(5)\n",
        "\n",
        "    # Print the original linked list\n",
        "    print(\"Given Linked list:\", end=\"\")\n",
        "    print_list(head)\n",
        "\n",
        "    # Function call to return the reversed list\n",
        "    head = reverse_list(head)\n",
        "\n",
        "    # Print the reversed linked list\n",
        "    print(\"Reversed Linked List:\", end=\"\")\n",
        "    print_list(head)\n"
      ]
    }
  ]
}