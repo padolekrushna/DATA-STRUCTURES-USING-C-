{
  "nbformat": 4,
  "nbformat_minor": 0,
  "metadata": {
    "colab": {
      "provenance": [],
      "authorship_tag": "ABX9TyNirs4Soz/rZrbIyoGcC3xD",
      "include_colab_link": true
    },
    "kernelspec": {
      "name": "python3",
      "display_name": "Python 3"
    },
    "language_info": {
      "name": "python"
    }
  },
  "cells": [
    {
      "cell_type": "markdown",
      "metadata": {
        "id": "view-in-github",
        "colab_type": "text"
      },
      "source": [
        "<a href=\"https://colab.research.google.com/github/padolekrushna/Daily_Data_Structure_using_python_and_c/blob/main/Binary_Search_Algorithm.ipynb\" target=\"_parent\"><img src=\"https://colab.research.google.com/assets/colab-badge.svg\" alt=\"Open In Colab\"/></a>"
      ]
    },
    {
      "cell_type": "markdown",
      "source": [
        "#Binary Search Algorithm"
      ],
      "metadata": {
        "id": "cqjnAxDDOJ9t"
      }
    },
    {
      "cell_type": "code",
      "source": [],
      "metadata": {
        "id": "GJizwA_OOLYt"
      },
      "execution_count": null,
      "outputs": []
    }
  ]
}